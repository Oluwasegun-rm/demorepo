{
  "nbformat": 4,
  "nbformat_minor": 0,
  "metadata": {
    "colab": {
      "provenance": [],
      "authorship_tag": "ABX9TyP5/Ac2BpITXlwpsMwerpCE",
      "include_colab_link": true
    },
    "kernelspec": {
      "name": "python3",
      "display_name": "Python 3"
    },
    "language_info": {
      "name": "python"
    }
  },
  "cells": [
    {
      "cell_type": "markdown",
      "metadata": {
        "id": "view-in-github",
        "colab_type": "text"
      },
      "source": [
        "<a href=\"https://colab.research.google.com/github/Oluwasegun-rm/demorepo/blob/main/tests.ipynb\" target=\"_parent\"><img src=\"https://colab.research.google.com/assets/colab-badge.svg\" alt=\"Open In Colab\"/></a>"
      ]
    },
    {
      "cell_type": "code",
      "execution_count": null,
      "metadata": {
        "id": "HenqDTNohCSU"
      },
      "outputs": [],
      "source": []
    },
    {
      "cell_type": "code",
      "execution_count": null,
      "metadata": {
        "id": "4NppNUd4fTXA"
      },
      "outputs": [],
      "source": []
    },
    {
      "cell_type": "markdown",
      "source": [
        "# First markdown heading"
      ],
      "metadata": {
        "id": "IPSucG9sfXyh"
      }
    },
    {
      "cell_type": "code",
      "source": [
        "print(\"Segun's the best.\")"
      ],
      "metadata": {
        "colab": {
          "base_uri": "https://localhost:8080/"
        },
        "id": "Mhd3X52rfdGJ",
        "outputId": "40226f4b-2b4f-4a33-f658-75a7f0c4cb37"
      },
      "execution_count": 2,
      "outputs": [
        {
          "output_type": "stream",
          "name": "stdout",
          "text": [
            "Segun's the best.\n"
          ]
        }
      ]
    },
    {
      "cell_type": "markdown",
      "source": [
        "## First markdown subheading"
      ],
      "metadata": {
        "id": "9GRkV-gifpjx"
      }
    },
    {
      "cell_type": "code",
      "source": [
        "import pandas as pd\n",
        "d = {\n",
        "    \"first\": [1,2,3],\n",
        "    \"second\": [\"alice\", \"joy\", \"peace\"],\n",
        "    \"third\": [\"New York\", \"Monaco\", \"Syndey\"]\n",
        "}\n",
        "\n",
        "data = pd.DataFrame(d)\n",
        "print(data)"
      ],
      "metadata": {
        "colab": {
          "base_uri": "https://localhost:8080/"
        },
        "id": "U8vkQ1SKf16X",
        "outputId": "a30d20ba-9c9e-42cc-d906-07f6a4c59534"
      },
      "execution_count": 1,
      "outputs": [
        {
          "output_type": "stream",
          "name": "stdout",
          "text": [
            "   first second     third\n",
            "0      1  alice  New York\n",
            "1      2    joy    Monaco\n",
            "2      3  peace    Syndey\n"
          ]
        }
      ]
    },
    {
      "cell_type": "code",
      "source": [],
      "metadata": {
        "id": "sSB3oKSwgh8Y"
      },
      "execution_count": null,
      "outputs": []
    }
  ]
}